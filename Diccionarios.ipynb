{
  "nbformat": 4,
  "nbformat_minor": 0,
  "metadata": {
    "colab": {
      "provenance": [],
      "authorship_tag": "ABX9TyMzdTkfYPB6RVpj7InP2Ofg",
      "include_colab_link": true
    },
    "kernelspec": {
      "name": "python3",
      "display_name": "Python 3"
    },
    "language_info": {
      "name": "python"
    }
  },
  "cells": [
    {
      "cell_type": "markdown",
      "metadata": {
        "id": "view-in-github",
        "colab_type": "text"
      },
      "source": [
        "<a href=\"https://colab.research.google.com/github/Jo4hdr/Diccionarios/blob/main/Diccionarios.ipynb\" target=\"_parent\"><img src=\"https://colab.research.google.com/assets/colab-badge.svg\" alt=\"Open In Colab\"/></a>"
      ]
    },
    {
      "cell_type": "markdown",
      "source": [
        "# Diccionarios\n",
        "\n",
        "- Son datos estructurados, es decir, hacen referencia a una coleccion de datos.\n",
        "-Son una coleccion desordenada de pares de datos de la forma clave:valor, conocidos como elemntos o items.\n",
        "- SOn mutables, por tanto, una vez definido un diccionario se le puede agregar nuevos elementos, modificar o eliminar algunos de los que ya tiene.\n",
        "- Tambien se les conoce como mapa de hash o arreglos asociativos.\n",
        "- En Python los diccionarios son de tipo dict y se utiliza la siguiente sintaxis para crear una variable de este tipo:\n",
        "\n",
        "`nombre_dict = {clave1:valor1, clave2:valor2, ...}`\n",
        "\n",
        "- Cada item o elemento tiene la forma clave:valor\n",
        "- En cada item hay una clave y uno mas valores. Si se desconoce el valor, se puede llenar con `None`\n",
        "-Los elementos del diccionario se indexan por la clave.\n",
        "- Las claves solo pueden ser datos inmutables.\n",
        "- Las claves no pueden repetirse dentro de un diccionario.\n",
        "\n"
      ],
      "metadata": {
        "id": "4a9Tk6IipaBF"
      }
    },
    {
      "cell_type": "code",
      "execution_count": 3,
      "metadata": {
        "colab": {
          "base_uri": "https://localhost:8080/"
        },
        "id": "1zSELGhepVVS",
        "outputId": "42b82287-f2c7-4346-e1ab-93c64e54398e"
      },
      "outputs": [
        {
          "output_type": "stream",
          "name": "stdout",
          "text": [
            "{'ene': 1, 'feb': 2, 'mar': 3, 'abr': 4, 'may': 5, 'jun': 6, 'jul': 7, 'ago': 8, 'sep': 9, 'oct': 10, 'nov': 11, 'dic': 12}\n",
            "{1: 'ene', 2: 'feb', 3: 'mar', 4: 'abr', 5: 'may', 6: 'jun', 7: 'jul', 8: 'ago', 9: 'sep', 10: 'oct', 11: 'nov', 12: 'dic'}\n",
            "{'manzana': 34, 'pera': 45, 'uva': 23}\n",
            "{'manzana': 34, 'pera': 45, 'uva': 23, 'cereza': 90}\n",
            "{'manzana': 34, 'pera': 45, 'uva': 23, 'cereza': 100}\n",
            "{'manzana': 34, 'pera': 45, 'uva': 23}\n",
            "El valor de manzana es:  34\n"
          ]
        }
      ],
      "source": [
        "# Diccionario con clave tipo cadena\n",
        "\n",
        "num_meses = {'ene':1, 'feb':2, 'mar':3, 'abr':4, 'may':5, 'jun':6, 'jul':7, 'ago':8, 'sep':9, 'oct':10, 'nov':11, 'dic':12}\n",
        "print(num_meses)\n",
        "\n",
        "nombre_meses = {1:'ene', 2:'feb', 3:'mar', 4:'abr', 5:'may', 6:'jun', 7:'jul', 8:'ago', 9:'sep', 10:'oct', 11:'nov', 12:'dic'}\n",
        "print(nombre_meses)\n",
        "\n",
        "frutas = {'manzana':34, 'pera':45, 'uva':23}\n",
        "print(frutas)\n",
        "\n",
        "# agregar elementos\n",
        "frutas['cereza'] =  90\n",
        "print(frutas)\n",
        "\n",
        "# modificar un elemento\n",
        "frutas['cereza'] = 100\n",
        "print(frutas)\n",
        "\n",
        "# eliminar un elemento\n",
        "del frutas['cereza']\n",
        "print(frutas)\n",
        "\n",
        "# construir valor dada una clave\n",
        "print('El valor de manzana es: ', frutas['manzana'])"
      ]
    }
  ]
}